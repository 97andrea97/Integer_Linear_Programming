{
 "cells": [
  {
   "cell_type": "markdown",
   "metadata": {},
   "source": [
    "# INTEGER (LINEAR) PROGRAMMING \n",
    "\n",
    "An integer programming problem is a mathematical optimization or feasibility program in which some or all of the variables are restricted to be integers. In many settings the term refers to integer linear programming (ILP), in which the objective function and the constraints (other than the integer constraints) are linear.\n",
    "\n",
    "Integer programming is NP-complete.\n",
    "\n",
    "- ILP in CANONICAL FORM is expressed as:[2]\n",
    "\n",
    "${\\displaystyle {\\begin{aligned}&{\\text{maximize}}&&\\mathbf {c} ^{\\mathrm {T} }\\mathbf {x} \\\\&{\\text{subject to}}&&A\\mathbf {x} \\leq \\mathbf {b} ,\\\\&&&\\mathbf {x} \\geq \\mathbf {0} ,\\\\&{\\text{and}}&&\\mathbf {x} \\in \\mathbb {Z} ^{n},\\end{aligned}}}$\n",
    "\n",
    "- ILP in STANDARD/ is expressed as\n",
    "\n",
    "${\\displaystyle {\\begin{aligned}&{\\text{maximize}}&&\\mathbf {c} ^{\\mathrm {T} }\\mathbf {x} \\\\&{\\text{subject to}}&&A\\mathbf {x} +\\mathbf {s} =\\mathbf {b} ,\\\\&&&\\mathbf {s} \\geq \\mathbf {0} ,\\\\&&&\\mathbf {x} \\geq \\mathbf {0} ,\\\\&{\\text{and}}&&\\mathbf {x} \\in \\mathbb {Z} ^{n},\\end{aligned}}}$\n",
    "\n",
    "\n",
    "where ${\\displaystyle \\mathbf {c} ,\\mathbf {b} }$  are vectors and ${\\displaystyle A}$ is a matrix, where all entries are integers. \n",
    "\n",
    "As with linear programs, ILPs not in standard form can be converted to standard form by eliminating inequalities, introducing slack variables (${\\displaystyle \\mathbf {s} }$) and replacing variables that are not sign-constrained with the difference of two sign-constrained variables.\n",
    "\n",
    "The naive way to solve an ILP is to simply remove the constraint that x is integer, solve the corresponding LP (called the LP relaxation of the ILP), and then round the entries of the solution to the LP relaxation. But, not only may this solution not be optimal, it may not even be feasible; that is, it may violate some constraint.\n",
    "\n",
    "A tyipical problem which is solved by ILP is the one which can be modelled with decision variables which can have value 0 or 1.\n",
    "\n",
    "It seems to be really similar to LP but: LP has polynomial cost, instead ILP is NP-hard.\n",
    "\n",
    "NP-hard: not yet known an algorithm to solve it in polyonomial (ol less) cost, only exponential. But given a solution can be check if it's right fastly.\n",
    "\n",
    "The solution can be obtained rounding the real one found with LP methods, but sometimes the solution is not correct (optimal for the ILP problem) or even not feasible. So it's needed a different approach. There are algorithm which are exact and others which are approximative:\n",
    "\n",
    "There are three main categories of algorithms for integer programming problems:\n",
    "- Exact algorithms: they guarantee to find an optimal solution, but may take an exponential time. They include branch-and-bound, cutting-planes and dynamic programming (these are the main ones, based on divide et impera).\n",
    "    - Branch-and-bound: the divide phase is called branching. Both branching and bounding are based on the solution of the LP relaxation. Binding works in this way: you find the solution of the LP relaxation x=0.5, then you split the problem in two littler problems, one with constraint x<=0 and the other with x>=1, if the two solutions now are integers the best solution between the two problems is the final solution. Otherwise keep splitting in more subproblems. Of course different tree search strategies can be used. The deepest you go, the worse the solution. When you find a solution which is worse than the one of another node, then you don't need to branch it. Bounding is the phase of cutting.\n",
    "    - Branch-and-cut is similar, but the cut is based on different conditions which allow us to reduce the polytode of the feasible solution.\n",
    "    - Dynamic programming, interesting but we don't have time.\n",
    "\n",
    "\n",
    "- Approximation algorithms: they provide in polynomial time a suboptimal solution together with a bound on the quality of the solution proposed.\n",
    "  - Heuristic algorithms: they provide a suboptimal solution, with no guarantee on its quality. Even the running time is not always guaranteed to be polynomial, but empirical evidence suggests that these algorithms find a good solution fast."
   ]
  },
  {
   "cell_type": "markdown",
   "metadata": {},
   "source": [
    "# ILP in Python, with pulp:\n",
    "The only difference with LP is that when the variable is instantiated you should specify that it's integer with the parameter \"cat\". In the example below are these two the variables:\n",
    "- x1=pulp.LpVariable(\"Beer\", 0, cat=\"Integer\") \n",
    "- x2=pulp.LpVariable(\"Ale\", 0, cat=\"Integer\")\n"
   ]
  },
  {
   "cell_type": "code",
   "execution_count": 1,
   "metadata": {},
   "outputs": [
    {
     "name": "stderr",
     "output_type": "stream",
     "text": [
      "C:\\Users\\97and\\AppData\\Local\\Programs\\Python\\Python38\\lib\\site-packages\\pulp\\pulp.py:1137: UserWarning: Spaces are not permitted in the name. Converted to '_'\n",
      "  warnings.warn(\"Spaces are not permitted in the name. Converted to '_'\")\n"
     ]
    },
    {
     "name": "stdout",
     "output_type": "stream",
     "text": [
      "Status: Optimal\n",
      "Total revenue =  800.0\n",
      "Ale = 12.0\n",
      "Beer = 28.0\n",
      "Corn_availability : 5*Ale + 15*Beer <= 480 \t dual 0.0 \tslack -0.0\n",
      "Hops_availability : 4*Ale + 4*Beer <= 160 \t dual 0.0 \tslack -0.0\n",
      "Malt_availability : 35*Ale + 20*Beer <= 1190 \t dual 0.0 \tslack 210.0\n"
     ]
    }
   ],
   "source": [
    "import pulp\n",
    "\n",
    "\n",
    "\n",
    "# prob contains the problem data, problem defined as min\n",
    "prob = pulp.LpProblem(\"The Brewery Problem\", pulp.LpMinimize)\n",
    "\n",
    " \n",
    "\n",
    "# The 2 variables Beer and Alre are created with a lower limit of zero\n",
    "x1=pulp.LpVariable(\"Beer\", 0, cat=\"Integer\") \n",
    "x2=pulp.LpVariable(\"Ale\", 0, cat=\"Integer\")\n",
    "\n",
    " \n",
    "\n",
    "# The objective function is min, profits are negative\n",
    "prob += -23*x1 -13*x2, \"Total profit per unit of product\"\n",
    "\n",
    " \n",
    "\n",
    "# Availability constraints\n",
    "prob += 15*x1 + 5*x2 <= 480, \"Corn availability\"\n",
    "prob += 4*x1 + 4*x2 <= 160, \"Hops availability\"\n",
    "prob += 20*x1 + 35*x2 <= 1190, \"Malt availability\"\n",
    "\n",
    " \n",
    "\n",
    "# The problem data is written to an .lp file\n",
    "prob.writeLP(\"Brewery.lp\")\n",
    "\n",
    " \n",
    "\n",
    "# The problem is solved using PuLP's choice of Solver or\n",
    "#prob.solve() # let pulp decide the solver\n",
    "#prob.solve(CPLEX())\n",
    "prob.solve(pulp.PULP_CBC_CMD(fracGap = 0.00001, maxSeconds = 500, threads = None))\n",
    "\n",
    " \n",
    "\n",
    "# The status of the solution\n",
    "print(\"Status:\", pulp.LpStatus[prob.status])\n",
    "\n",
    " \n",
    "\n",
    "# The optimal objective function value\n",
    "print(\"Total revenue = \", -1*pulp.value(prob.objective))\n",
    "\n",
    " \n",
    "\n",
    "# Primal and dual variables optimal value\n",
    "for v in prob.variables():\n",
    "    print(v.name, \"=\", v.varValue)\n",
    "\n",
    " \n",
    "\n",
    "for name, c in list(prob.constraints.items()):\n",
    "    print(name, \":\", c, \"\\t dual\", c.pi, \"\\tslack\", c.slack)"
   ]
  },
  {
   "cell_type": "code",
   "execution_count": null,
   "metadata": {},
   "outputs": [],
   "source": []
  }
 ],
 "metadata": {
  "kernelspec": {
   "display_name": "Python 3",
   "language": "python",
   "name": "python3"
  },
  "language_info": {
   "codemirror_mode": {
    "name": "ipython",
    "version": 3
   },
   "file_extension": ".py",
   "mimetype": "text/x-python",
   "name": "python",
   "nbconvert_exporter": "python",
   "pygments_lexer": "ipython3",
   "version": "3.8.1"
  }
 },
 "nbformat": 4,
 "nbformat_minor": 2
}
